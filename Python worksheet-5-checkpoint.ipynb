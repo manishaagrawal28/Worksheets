{
 "cells": [
  {
   "cell_type": "markdown",
   "metadata": {},
   "source": [
    "1.(C) "
   ]
  },
  {
   "cell_type": "markdown",
   "metadata": {},
   "source": [
    "2.(C) "
   ]
  },
  {
   "cell_type": "markdown",
   "metadata": {},
   "source": [
    "3.(B) "
   ]
  },
  {
   "cell_type": "markdown",
   "metadata": {},
   "source": [
    "4.(D) "
   ]
  },
  {
   "cell_type": "markdown",
   "metadata": {},
   "source": [
    "5.(C) "
   ]
  },
  {
   "cell_type": "markdown",
   "metadata": {},
   "source": [
    "6.(D) "
   ]
  },
  {
   "cell_type": "markdown",
   "metadata": {},
   "source": [
    "7.(B) "
   ]
  },
  {
   "cell_type": "markdown",
   "metadata": {},
   "source": [
    "8.(C) "
   ]
  },
  {
   "cell_type": "markdown",
   "metadata": {},
   "source": [
    "9.(D) "
   ]
  },
  {
   "cell_type": "markdown",
   "metadata": {},
   "source": [
    "10.(A,B) "
   ]
  },
  {
   "cell_type": "markdown",
   "metadata": {},
   "source": [
    "11. Difference between list and sets:    \n",
    "List is a type of ordered collection that maintains the elements in insertion order but set is a type of unordered collection. \n",
    "List allows duplicates elements but set does not allow duplicate elements."
   ]
  },
  {
   "cell_type": "code",
   "execution_count": 1,
   "metadata": {},
   "outputs": [
    {
     "name": "stdout",
     "output_type": "stream",
     "text": [
      "[4, 9, 16, 25, 36, 49]\n"
     ]
    }
   ],
   "source": [
    "12. #python program to square the elements of a list by using list comprehension\n",
    "\n",
    "def square(list):\n",
    "    list1=[]\n",
    "    for i in list:\n",
    "        list1.append(i ** 2)\n",
    "    return list1\n",
    "\n",
    "list=[2,3,4,5,6,7]\n",
    "print(square(list))"
   ]
  },
  {
   "cell_type": "code",
   "execution_count": 2,
   "metadata": {},
   "outputs": [
    {
     "name": "stdout",
     "output_type": "stream",
     "text": [
      "[10, 20, 40, 25, 30, 60]\n"
     ]
    }
   ],
   "source": [
    "13. #drop duplicate elements from a list of numbers.\n",
    "\n",
    "def Remove(duplicate): \n",
    "    final_list = [] \n",
    "    for num in duplicate: \n",
    "        if num not in final_list: \n",
    "            final_list.append(num) \n",
    "    return final_list \n",
    "      \n",
    "duplicate = [10,20,40,25,30,20,60,30,10] \n",
    "print(Remove(duplicate)) "
   ]
  },
  {
   "cell_type": "code",
   "execution_count": 3,
   "metadata": {},
   "outputs": [
    {
     "name": "stdout",
     "output_type": "stream",
     "text": [
      "intersection of set a and set b:  {3, 4, 5}\n",
      "union of set a and set b:  {1, 2, 3, 4, 5, 6, 7, 8}\n",
      "difference of set a and set b:  {1, 2}\n",
      "symmetric_difference of set a and set b:  {1, 2, 6, 7, 8}\n"
     ]
    }
   ],
   "source": [
    "14. #implementing the set operations - intersection, union, difference and symmetric_difference between two sets\n",
    "\n",
    "a={1,2,3,4,5}\n",
    "b={3,4,5,6,7,8}\n",
    "\n",
    "print(\"intersection of set a and set b: \",a.intersection(b))\n",
    "print(\"union of set a and set b: \",a.union(b))\n",
    "print(\"difference of set a and set b: \",a.difference(b))\n",
    "print(\"symmetric_difference of set a and set b: \",a.symmetric_difference(b))"
   ]
  },
  {
   "cell_type": "code",
   "execution_count": 4,
   "metadata": {},
   "outputs": [
    {
     "name": "stdout",
     "output_type": "stream",
     "text": [
      "sum of elements: 55\n"
     ]
    }
   ],
   "source": [
    "15. #python program to add the elements of a set\n",
    "\n",
    "a={1,2,3,4,5,6,7,8,9,10}\n",
    "\n",
    "total=0\n",
    "\n",
    "for i in a:\n",
    "    total=total+i\n",
    "    \n",
    "print(\"sum of elements:\",total)"
   ]
  }
 ],
 "metadata": {
  "kernelspec": {
   "display_name": "Python 3",
   "language": "python",
   "name": "python3"
  },
  "language_info": {
   "codemirror_mode": {
    "name": "ipython",
    "version": 3
   },
   "file_extension": ".py",
   "mimetype": "text/x-python",
   "name": "python",
   "nbconvert_exporter": "python",
   "pygments_lexer": "ipython3",
   "version": "3.7.6"
  }
 },
 "nbformat": 4,
 "nbformat_minor": 4
}
